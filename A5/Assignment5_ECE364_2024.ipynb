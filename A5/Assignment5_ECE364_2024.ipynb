{
 "cells": [
  {
   "cell_type": "markdown",
   "metadata": {
    "id": "E32UBMT7VKMm"
   },
   "source": [
    "## Prepare python environment\n"
   ]
  },
  {
   "cell_type": "code",
   "execution_count": null,
   "metadata": {
    "executionInfo": {
     "elapsed": 3015,
     "status": "ok",
     "timestamp": 1670732264390,
     "user": {
      "displayName": "Hongjie Wang",
      "userId": "16591498052837554386"
     },
     "user_tz": 300
    },
    "id": "y_lm7Q-9VKMn"
   },
   "outputs": [],
   "source": [
    "import pandas as pd\n",
    "import numpy as np\n",
    "import matplotlib.pyplot as plt\n",
    "import seaborn as sns\n",
    "from sklearn.preprocessing import StandardScaler\n",
    "from sklearn.model_selection import train_test_split\n",
    "\n",
    "%matplotlib inline"
   ]
  },
  {
   "cell_type": "code",
   "execution_count": null,
   "metadata": {
    "executionInfo": {
     "elapsed": 136,
     "status": "ok",
     "timestamp": 1670732265544,
     "user": {
      "displayName": "Hongjie Wang",
      "userId": "16591498052837554386"
     },
     "user_tz": 300
    },
    "id": "ryOZJYQa3PG0"
   },
   "outputs": [],
   "source": [
    "random_state = 5 # use this to control randomness across runs e.g., dataset partitioning"
   ]
  },
  {
   "cell_type": "markdown",
   "metadata": {},
   "source": [
    "## Preparing the Credit Card Fraud Detection dataset (2 points)\n",
    "\n",
    "The dataset contains transactions made by credit cards in September 2013 by European cardholders. This dataset presents transactions that occurred in two days, where we have 492 frauds out of 284,807 transactions. The dataset is highly unbalanced, the positive class (frauds) account for 0.172% of all transactions.\n",
    "\n",
    "See [here](https://www.kaggle.com/mlg-ulb/creditcarcreditcard_dataraud) for details of the dataset. We will post process the data to balance both the classes."
   ]
  },
  {
   "cell_type": "code",
   "execution_count": null,
   "metadata": {},
   "outputs": [],
   "source": [
    "!unzip ../data/creditcard.zip\n",
    "\n",
    "creditcard_data = pd.read_csv(\"creditcard.csv\")\n",
    "print(creditcard_data.head())"
   ]
  },
  {
   "cell_type": "markdown",
   "metadata": {},
   "source": [
    "### Visualize the distribution of fraudulent vs genuine transactions"
   ]
  },
  {
   "cell_type": "code",
   "execution_count": null,
   "metadata": {},
   "outputs": [],
   "source": [
    "# Make a pie chart showing transaction type\n",
    "fig, ax = plt.subplots(1, 1)\n",
    "ax.pie(creditcard_data.Class.value_counts(),autopct='%1.1f%%', labels=['Genuine','Fraud'], colors=['green','red'])\n",
    "plt.axis('equal');\n",
    "plt.ylabel('');"
   ]
  },
  {
   "cell_type": "markdown",
   "metadata": {},
   "source": [
    "#### Create a balanced dataset with 50% from each class"
   ]
  },
  {
   "cell_type": "code",
   "execution_count": null,
   "metadata": {},
   "outputs": [],
   "source": [
    "fraud_indices = np.array(creditcard_data[creditcard_data.Class == 1].index) # indices corresponding to fraud transaction\n",
    "genuine_ind = creditcard_data[creditcard_data.Class == 0].index # indices corresponding to genuine transaction\n",
    "total_fraud_transactions = len(creditcard_data[creditcard_data.Class == 1]) # total transactions that were fraud\n",
    "np.random.seed(0) # fix the random seed generator for consistent results\n",
    "indices_genuine_transaction = np.random.choice(genuine_ind, total_fraud_transactions, replace = False)\n",
    "indices_genuine_transaction = np.array(indices_genuine_transaction)\n",
    "selected_balanced_indices = np.concatenate([fraud_indices,indices_genuine_transaction]) # indices for balanced data\n",
    "balanced_data = creditcard_data.iloc[selected_balanced_indices,:]\n",
    "\n",
    "print(\"% genuine transactions: \",len(balanced_data[balanced_data.Class == 0])/len(balanced_data))\n",
    "print(\"% fraud transactions: \",len(balanced_data[balanced_data.Class == 1])/len(balanced_data))\n",
    "\n",
    "# Make a pie chart showing transaction type\n",
    "fig, ax = plt.subplots(1, 1)\n",
    "ax.pie(balanced_data.Class.value_counts(),autopct='%1.1f%%', labels=['Genuine','Fraud'], colors=['green','red'])\n",
    "plt.axis('equal')\n",
    "plt.ylabel('');"
   ]
  },
  {
   "cell_type": "markdown",
   "metadata": {},
   "source": [
    "### Extract target and descriptive features (1 point)"
   ]
  },
  {
   "cell_type": "code",
   "execution_count": null,
   "metadata": {},
   "outputs": [],
   "source": [
    "# Store all the features from the data in X\n",
    "X = # TODO\n",
    "# Store all the labels in y\n",
    "y = # TODO"
   ]
  },
  {
   "cell_type": "code",
   "execution_count": null,
   "metadata": {},
   "outputs": [],
   "source": [
    "# Convert data to numpy array\n",
    "X = # TODO\n",
    "y = # TODO"
   ]
  },
  {
   "cell_type": "markdown",
   "metadata": {},
   "source": [
    "### Create training and validation datasets (0.5 point)\n",
    "\n",
    "Split the data into training and validation sets using `train_test_split`.  See [here](https://scikit-learn.org/stable/modules/generated/sklearn.model_selection.train_test_split.html) for details. To get consistent result while splitting, set `random_state` to the value defined earlier. We use 80% of the data for training and 20% of the data for validation. "
   ]
  },
  {
   "cell_type": "code",
   "execution_count": null,
   "metadata": {},
   "outputs": [],
   "source": [
    "X_train,X_val,y_train,y_val = # TODO"
   ]
  },
  {
   "cell_type": "markdown",
   "metadata": {},
   "source": [
    "### Preprocess the dataset (0.5 point)\n",
    "\n",
    "Preprocess the data by normalizing each feature to have zero mean and unit standard deviation. This can be done using the `StandardScaler()` function. See [here](https://scikit-learn.org/stable/modules/generated/sklearn.preprocessing.StandardScaler.html) for more details.\n"
   ]
  },
  {
   "cell_type": "code",
   "execution_count": null,
   "metadata": {},
   "outputs": [],
   "source": [
    "# Define the scaler for scaling the data\n",
    "scaler = # TODO\n",
    "\n",
    "# Normalize the training data\n",
    "X_train = # TODO\n",
    "\n",
    "# Use the scaler defined above to standardize the validation data by applying the same transformation to the validation data.\n",
    "X_val = # TODO\n"
   ]
  },
  {
   "cell_type": "markdown",
   "metadata": {
    "id": "3UtsyLvUNggX"
   },
   "source": [
    "## Training a Multi-Layer Perceptron (18 points)\n",
    "\n",
    "\n",
    "We will use `sklearn's` neural network library to train a multi-layer perceptron for classification. The model is trained to optimize the cross-entropy loss using stochastic gradient descent. Review ch.8 and see [here](https://scikit-learn.org/stable/modules/neural_networks_supervised.html) for more details. \n",
    "\n",
    "NOTE: Training each network takes several seconds to minutes."
   ]
  },
  {
   "cell_type": "code",
   "execution_count": null,
   "metadata": {
    "executionInfo": {
     "elapsed": 176,
     "status": "ok",
     "timestamp": 1670732293013,
     "user": {
      "displayName": "Hongjie Wang",
      "userId": "16591498052837554386"
     },
     "user_tz": 300
    },
    "id": "Frq2-KnMNf68"
   },
   "outputs": [],
   "source": [
    "from sklearn.neural_network import MLPClassifier \n",
    "from sklearn.metrics import accuracy_score \n",
    "import matplotlib.pyplot as plt"
   ]
  },
  {
   "cell_type": "code",
   "execution_count": null,
   "metadata": {
    "executionInfo": {
     "elapsed": 117,
     "status": "ok",
     "timestamp": 1670732294297,
     "user": {
      "displayName": "Hongjie Wang",
      "userId": "16591498052837554386"
     },
     "user_tz": 300
    },
    "id": "TWjR7AYWS80N"
   },
   "outputs": [],
   "source": [
    "\"\"\"\n",
    "For info on the arguments and attributes, see here: \n",
    "(https://scikit-learn.org/stable/modules/generated/sklearn.neural_network.MLPClassifier.html#sklearn.neural_network.MLPClassifier)\n",
    "\"\"\"\n",
    "\n",
    "def get_mlp(hidden_layer_sizes=(100,),\n",
    "            activation='relu',\n",
    "            learning_rate_init=0.1,\n",
    "            early_stopping=False, \n",
    "            validation_fraction=0.15):\n",
    "  \n",
    "  # use stochastic gradient descent\n",
    "    parameters={'solver':'sgd',\n",
    "              'alpha': 0,\n",
    "              'momentum': 0,\n",
    "              'max_iter':20000,\n",
    "              'n_iter_no_change':100,\n",
    "              'tol': 1e-5,\n",
    "              'random_state': random_state\n",
    "              }\n",
    "    parameters['hidden_layer_sizes']=hidden_layer_sizes\n",
    "    parameters['activation']=activation\n",
    "    parameters['learning_rate_init']=learning_rate_init\n",
    "    parameters['early_stopping']=early_stopping\n",
    "    parameters['validation_fraction']=validation_fraction \n",
    "    \n",
    "    return MLPClassifier(**parameters)"
   ]
  },
  {
   "cell_type": "markdown",
   "metadata": {
    "id": "sB9FECm31CHX"
   },
   "source": [
    "### Exercise 1: Warm up (2 points)"
   ]
  },
  {
   "cell_type": "markdown",
   "metadata": {
    "id": "yt7jsRvNPGRc"
   },
   "source": [
    "1. Use `get_mlp` defined above to create a multi-layer perceptron with 1 hidden layer consisting of 100 units and train the classifier on the training dataset. Keep all other parameters at their default values.\n",
    " "
   ]
  },
  {
   "cell_type": "code",
   "execution_count": null,
   "metadata": {
    "colab": {
     "base_uri": "https://localhost:8080/"
    },
    "executionInfo": {
     "elapsed": 47430,
     "status": "ok",
     "timestamp": 1670532880110,
     "user": {
      "displayName": "Hongjie Wang",
      "userId": "16591498052837554386"
     },
     "user_tz": 300
    },
    "id": "GU2VrEfyO78v",
    "outputId": "7f03d174-c019-4d5e-f843-3be67dce05b8"
   },
   "outputs": [],
   "source": [
    "# TODO"
   ]
  },
  {
   "cell_type": "markdown",
   "metadata": {
    "id": "kVCSowjdl43b"
   },
   "source": [
    "2. Visualize the evolution of the training loss. Hint: use `loss_curve_` attribute of the classifier and matplotlib (https://matplotlib.org/stable/api/_as_gen/matplotlib.pyplot.plot.html).\n",
    "\n",
    "\n",
    "\n"
   ]
  },
  {
   "cell_type": "code",
   "execution_count": null,
   "metadata": {
    "colab": {
     "base_uri": "https://localhost:8080/",
     "height": 295
    },
    "executionInfo": {
     "elapsed": 423,
     "status": "ok",
     "timestamp": 1670532884726,
     "user": {
      "displayName": "Hongjie Wang",
      "userId": "16591498052837554386"
     },
     "user_tz": 300
    },
    "id": "BE_rJHewkua8",
    "outputId": "b0e45f7f-ac2f-4fe9-9c68-8bfa78d6a3f4"
   },
   "outputs": [],
   "source": [
    "# TODO"
   ]
  },
  {
   "cell_type": "markdown",
   "metadata": {
    "id": "xC3znkTUlFT0"
   },
   "source": [
    "3. Report the classifier's accuracies over the training and validation datasets. Hint: use `accuracy_score`"
   ]
  },
  {
   "cell_type": "code",
   "execution_count": null,
   "metadata": {
    "colab": {
     "base_uri": "https://localhost:8080/"
    },
    "executionInfo": {
     "elapsed": 210,
     "status": "ok",
     "timestamp": 1670532890760,
     "user": {
      "displayName": "Hongjie Wang",
      "userId": "16591498052837554386"
     },
     "user_tz": 300
    },
    "id": "YVxvkqcoeSsE",
    "outputId": "bbab8390-56ec-4189-9625-f122c6aeef8b"
   },
   "outputs": [],
   "source": [
    "# TODO"
   ]
  },
  {
   "cell_type": "markdown",
   "metadata": {
    "id": "xyOZ9NrE0U3g"
   },
   "source": [
    "#### Explain any performance difference observed between the training and validation datasets."
   ]
  },
  {
   "cell_type": "markdown",
   "metadata": {
    "id": "qRwVEBpL0dSP"
   },
   "source": [
    "Insert answer"
   ]
  },
  {
   "cell_type": "markdown",
   "metadata": {
    "id": "IFPaPLq90i36"
   },
   "source": [
    "#### We will next explore several strategies to improve the model's validation performance. "
   ]
  },
  {
   "cell_type": "markdown",
   "metadata": {
    "id": "1TUxVUfH1owa"
   },
   "source": [
    "### Exercise 2: Width vs Depth (9 points)"
   ]
  },
  {
   "cell_type": "markdown",
   "metadata": {
    "id": "EQKSzqClpIPy"
   },
   "source": [
    "#### Exercise 2a (3 points)\n",
    "\n",
    "Next, we will experiment with the width of the hidden layer, defined by the number of units in the hidden layer. \n",
    "\n",
    "Do this by using `get_mlp` to create a multi-layer perceptron with 1 hidden layer. Vary the number of hidden units among 1, 10, 50, 100, by setting `hidden_layer_sizes`. Keep all other parameters at their default values.\n",
    "\n",
    "Fit each classifier on the training dataset and report its training and validation accuracies."
   ]
  },
  {
   "cell_type": "code",
   "execution_count": null,
   "metadata": {
    "colab": {
     "base_uri": "https://localhost:8080/"
    },
    "executionInfo": {
     "elapsed": 100906,
     "status": "ok",
     "timestamp": 1670362768898,
     "user": {
      "displayName": "Alexander La Cour",
      "userId": "15991973518995942312"
     },
     "user_tz": 300
    },
    "id": "-qJ836H4mf18",
    "outputId": "4c31b0c3-7437-4409-d663-fdf9877eb352"
   },
   "outputs": [],
   "source": [
    "# TODO"
   ]
  },
  {
   "cell_type": "markdown",
   "metadata": {
    "id": "BfinbMwFsuhJ"
   },
   "source": [
    "#### Provide a possible explanation for any effect observed upon increasing the number of hidden units on classifier performance."
   ]
  },
  {
   "cell_type": "markdown",
   "metadata": {
    "id": "N2e1eRd7s7Co"
   },
   "source": [
    "Insert answer"
   ]
  },
  {
   "cell_type": "markdown",
   "metadata": {
    "id": "8yZ1OTk-2IXO"
   },
   "source": [
    "#### Exercise 2b (3 points)\n",
    "\n",
    "Next, we will experiment with the depth of the MLP, by varying the number of hidden layers. \n",
    "\n",
    "Do this by using `get_mlp` to create a Multi-layer perceptron with 15 units per hidden layer. Vary the number of hidden layers from 1 through 4, by setting `hidden_layer_sizes`. Keep all other parameters at their default values.\n",
    "\n",
    "Fit each classifier on the training dataset and report its training and validation accuracies.\n"
   ]
  },
  {
   "cell_type": "code",
   "execution_count": null,
   "metadata": {
    "colab": {
     "base_uri": "https://localhost:8080/"
    },
    "executionInfo": {
     "elapsed": 50403,
     "status": "ok",
     "timestamp": 1670362819284,
     "user": {
      "displayName": "Alexander La Cour",
      "userId": "15991973518995942312"
     },
     "user_tz": 300
    },
    "id": "gslpVDRU9ML3",
    "outputId": "9db44449-72bd-45a1-c2d2-4c5f75812d62"
   },
   "outputs": [],
   "source": [
    "# TODO"
   ]
  },
  {
   "cell_type": "markdown",
   "metadata": {
    "id": "rZ1T_Ap38oni"
   },
   "source": [
    "#### Provide a possible explanation for any change in performance upon increasing the model depth. "
   ]
  },
  {
   "cell_type": "markdown",
   "metadata": {
    "id": "02X85HZG9JHk"
   },
   "source": [
    "Insert answer"
   ]
  },
  {
   "cell_type": "markdown",
   "metadata": {
    "id": "Jx_K2IPdHYbG"
   },
   "source": [
    "#### Exercise 2c (3 points)\n",
    "\n",
    "Next, we'll explore the role of the hidden activation function when training a deeper network.\n",
    "\n",
    "Do this by using `get_mlp` to create a multi-layer perceptron with 5 hidden layers, each with 15 hidden units. Vary the activation functions among identity, logistic, tanh, and relu. Keep all other parameters at their default values.\n",
    "\n",
    "Fit each classifier on the training dataset and report its training accuracy.\n",
    "\n",
    "Also, plot the training loss curves for each classifier on a single plot. \n"
   ]
  },
  {
   "cell_type": "code",
   "execution_count": null,
   "metadata": {
    "colab": {
     "base_uri": "https://localhost:8080/",
     "height": 368
    },
    "executionInfo": {
     "elapsed": 15756,
     "status": "ok",
     "timestamp": 1670733079387,
     "user": {
      "displayName": "Hongjie Wang",
      "userId": "16591498052837554386"
     },
     "user_tz": 300
    },
    "id": "uJVeur2DGv4j",
    "outputId": "0ef7be15-9e39-4368-94b0-1fb3f7dee055"
   },
   "outputs": [],
   "source": [
    "# TODO"
   ]
  },
  {
   "cell_type": "markdown",
   "metadata": {
    "id": "4W7fxGZ3LlUX"
   },
   "source": [
    "#### Explain any effect observed on the traininig loss trajectories and accuracies when varying the hidden activation function."
   ]
  },
  {
   "cell_type": "markdown",
   "metadata": {
    "id": "uITvkxnuMb7k"
   },
   "source": [
    "Insert answer"
   ]
  },
  {
   "cell_type": "markdown",
   "metadata": {
    "id": "aLkDAwEp1PS-"
   },
   "source": [
    "### Exercise 3: Early stopping (4 points)"
   ]
  },
  {
   "cell_type": "markdown",
   "metadata": {
    "id": "P9XgM0FP6hou"
   },
   "source": [
    "As we've seen from the above exercises, neural networks are prone to overfitting. To mitigate this, we can use a regularization method called early stopping. \n",
    "\n",
    "In this part, we will compare the performance of the model with the early stopping method and the one without the early stopping method. For fair comparison, we use the validation dataset built before (20% of the data) as test dataset, and we make it unavailable to both models until finally evaluating models on it. During training both models, we assume there is only the built training dataset (80% of the data) available.\n",
    "\n",
    "In early stopping, one monitors the performance of the model on a validation dataset (which is separated from the training dataset) throughout training. Then, the model with the lowest loss on the validation dataset, typically found in the earlier iterations of training, is selected, rather than the model with the lowest training loss. \n",
    "\n",
    "\n"
   ]
  },
  {
   "cell_type": "markdown",
   "metadata": {
    "id": "SzWFyWmrP7ic"
   },
   "source": [
    "Do this by calling `get_mlp` and setting `early_stopping=True`, `validation_fraction=0.3`. Keep all other parameters at their default values. This will create a classifier that automatically splits the original training set into nonoverlapping training and validation splits, where the validation split is 30% of the original training set.    \n",
    "\n",
    "- Compare this classifier against the same model trained without early stopping.\n",
    "\n",
    "- Fit each classifier on the training dataset and report its training and test accuracies.\n",
    "\n",
    "- Also, plot the training loss and validation accuracy curves separately for the classifier trained with early stopping. Hint: use the validation_scores_ (analogous to loss_curve_) to plot the validation accuracy."
   ]
  },
  {
   "cell_type": "code",
   "execution_count": null,
   "metadata": {
    "colab": {
     "base_uri": "https://localhost:8080/",
     "height": 547
    },
    "executionInfo": {
     "elapsed": 42922,
     "status": "ok",
     "timestamp": 1670362877450,
     "user": {
      "displayName": "Alexander La Cour",
      "userId": "15991973518995942312"
     },
     "user_tz": 300
    },
    "id": "zYeDKG6-uobx",
    "outputId": "c7c3d865-58b6-43b7-d57d-6fec1ec32de0"
   },
   "outputs": [],
   "source": [
    "# TODO"
   ]
  },
  {
   "cell_type": "markdown",
   "metadata": {
    "id": "dLII4Ngn9pxq"
   },
   "source": [
    "#### Explain the plot and any change in the train and test performance compared to the classifier trained without early stopping."
   ]
  },
  {
   "cell_type": "markdown",
   "metadata": {
    "id": "kC3G6PEy96lT"
   },
   "source": [
    "Insert answer"
   ]
  },
  {
   "cell_type": "markdown",
   "metadata": {},
   "source": [
    "### Exercise 4: L2 Regularization in Neural Networks (3 points)\n",
    "\n",
    "As discussed, some of the most commonly used methods to avoid overﬁtting in neural networks are early stopping and dropout. The approach to avoiding overﬁtting by modifying the learning algorithm in order to generate models that are stable with respect to changes in the input is generally known as **regularization**\n",
    "\n",
    "**L2 regularization**, also known as weight decay, is a technique used to prevent overfitting in neural networks. It works by adding a penalty term to the loss function that discourages large weights. The `alpha` parameter in scikit-learn's MLPClassifier controls the strength of this L2 regularization.\n",
    "\n",
    "For this exercise, we'll use `scikit-learn.MLPClassifier` to explore the effects of L2 regularization."
   ]
  },
  {
   "cell_type": "code",
   "execution_count": null,
   "metadata": {},
   "outputs": [],
   "source": [
    "def train_model_with_regularization(hidden_layer_sizes, alpha, max_iter=1000):\n",
    "    model = MLPClassifier(hidden_layer_sizes=hidden_layer_sizes, \n",
    "                          alpha=alpha,  # alpha parameter controls the amount of L2 regularization\n",
    "                          max_iter=max_iter, \n",
    "                          random_state=random_state)\n",
    "    model.fit(X_train, y_train)\n",
    "    \n",
    "    train_acc = model.score(X_train, y_train)\n",
    "    val_acc = model.score(X_val, y_val)\n",
    "    test_acc = model.score(X_val, y_val)  # Using the original validation set as our test set\n",
    "    \n",
    "    return train_acc, val_acc, test_acc, model.loss_curve_"
   ]
  },
  {
   "cell_type": "markdown",
   "metadata": {},
   "source": [
    "#### Train models with different alpha values $\\alpha \\in \\{0.001, 0.01, 0.1, 0.2, 0.5\\}$ and plot training loss curves for different alpha values"
   ]
  },
  {
   "cell_type": "code",
   "execution_count": null,
   "metadata": {},
   "outputs": [],
   "source": [
    "# TODO"
   ]
  },
  {
   "cell_type": "markdown",
   "metadata": {},
   "source": [
    "#### Explain the effect of different alpha values on the model's performance and generalization ability. How does increasing `alpha` (which increases L2 regularization) affect the accuracies?"
   ]
  },
  {
   "cell_type": "markdown",
   "metadata": {},
   "source": [
    "Insert answer"
   ]
  }
 ],
 "metadata": {
  "colab": {
   "provenance": []
  },
  "kernelspec": {
   "display_name": "Python 3 (ipykernel)",
   "language": "python",
   "name": "python3"
  },
  "language_info": {
   "codemirror_mode": {
    "name": "ipython",
    "version": 3
   },
   "file_extension": ".py",
   "mimetype": "text/x-python",
   "name": "python",
   "nbconvert_exporter": "python",
   "pygments_lexer": "ipython3",
   "version": "3.11.9"
  },
  "nav_menu": {
   "height": "309px",
   "width": "468px"
  },
  "toc": {
   "navigate_menu": true,
   "number_sections": true,
   "sideBar": true,
   "threshold": 6,
   "toc_cell": false,
   "toc_section_display": "block",
   "toc_window_display": false
  }
 },
 "nbformat": 4,
 "nbformat_minor": 4
}
